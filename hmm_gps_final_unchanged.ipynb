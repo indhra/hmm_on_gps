{
  "nbformat": 4,
  "nbformat_minor": 0,
  "metadata": {
    "kernelspec": {
      "display_name": "Python 3",
      "language": "python",
      "name": "python3"
    },
    "language_info": {
      "codemirror_mode": {
        "name": "ipython",
        "version": 3
      },
      "file_extension": ".py",
      "mimetype": "text/x-python",
      "name": "python",
      "nbconvert_exporter": "python",
      "pygments_lexer": "ipython3",
      "version": "3.7.4"
    },
    "colab": {
      "name": "hmm_gps_final_unchanged.ipynb",
      "provenance": [],
      "collapsed_sections": []
    }
  },
  "cells": [
    {
      "cell_type": "code",
      "metadata": {
        "colab_type": "code",
        "outputId": "48f15918-4c36-4570-d9f5-66b430af2a41",
        "id": "m_wLOYG3jTP5",
        "colab": {
          "base_uri": "https://localhost:8080/",
          "height": 85
        }
      },
      "source": [
        "pip install jsonpickle"
      ],
      "execution_count": 0,
      "outputs": [
        {
          "output_type": "stream",
          "text": [
            "Collecting jsonpickle\n",
            "  Downloading https://files.pythonhosted.org/packages/07/07/c157520a3ebd166c8c24c6ae0ecae7c3968eb4653ff0e5af369bb82f004d/jsonpickle-1.2-py2.py3-none-any.whl\n",
            "Installing collected packages: jsonpickle\n",
            "Successfully installed jsonpickle-1.2\n"
          ],
          "name": "stdout"
        }
      ]
    },
    {
      "cell_type": "code",
      "metadata": {
        "id": "9b-9VwGukyFK",
        "colab_type": "code",
        "colab": {}
      },
      "source": [
        "import numpy as np\n",
        "from hmmlearn.base import ConvergenceMonitor\n",
        "from hmmlearn import hmm\n",
        "from sklearn.model_selection import train_test_split\n",
        "import os\n",
        "import json\n",
        "import jsonpickle\n",
        "import hmmlearn"
      ],
      "execution_count": 0,
      "outputs": []
    },
    {
      "cell_type": "markdown",
      "metadata": {
        "id": "H4u0_uAyk7en",
        "colab_type": "text"
      },
      "source": [
        "#HMM ON GPS DATA"
      ]
    },
    {
      "cell_type": "code",
      "metadata": {
        "id": "uZtyublgkyFP",
        "colab_type": "code",
        "colab": {}
      },
      "source": [
        "#from dataset take 80% for training and 20% testing (for ex)\n",
        "\n",
        "def dataa():\n",
        "    tr_data=80 #int(input(\"enter percentage of training data:    \")) #in percentage\n",
        "    #print(\"training data % is \",tr_data)\n",
        "    pr_data=100-tr_data #in percentage\n",
        "    #print(\"prediction data % is: \",(pr_data))\n",
        "    return(tr_data,pr_data)\n",
        "    \n",
        "    \n"
      ],
      "execution_count": 0,
      "outputs": []
    },
    {
      "cell_type": "code",
      "metadata": {
        "id": "42RCgDE-kyFU",
        "colab_type": "code",
        "colab": {}
      },
      "source": [
        "def datab(file): #splitting dataset into training and testing data\n",
        "    #tr=0\n",
        "    with open(file, 'r+') as f:\n",
        "        lines=f.read().split('\\n')\n",
        "        a=(len(lines))\n",
        "        f.close()\n",
        "    p100 = dataa()\n",
        "    tr_data = p100[0]\n",
        "    pr_data = p100[1]\n",
        "    #print(\"total number of data points = \",a)\n",
        "    tr=int(round(a*((tr_data)/100) ))\n",
        "    #print(\"Number of training data points taken =\" ,tr)\n",
        "    pr=a-tr\n",
        "    #print(\"Number of testing data points taken = \",pr)\n",
        "    spli=train_test_split(lines,train_size=tr,test_size=pr,shuffle=False)\n",
        "    return (tr,pr,spli,p100)\n",
        "    \n"
      ],
      "execution_count": 0,
      "outputs": []
    },
    {
      "cell_type": "code",
      "metadata": {
        "id": "Zear1LBikyFW",
        "colab_type": "code",
        "colab": {}
      },
      "source": [
        "def nmser(x,y):  #to find normalized mean square error-NMSE\n",
        "    z=0 \n",
        "    if len(x)==len(y):\n",
        "        for k in range(len(x)):\n",
        "            z=z+(((float(x[k])-y[k])**2)/float(x[k]))    \n",
        "            \n",
        "    elif len(x)>>len(y) or len(x)<<len(y):\n",
        "        print('invalid list length: please check the list')\n",
        "    \n",
        "    z=z/(len(x))\n",
        "    return z "
      ],
      "execution_count": 0,
      "outputs": []
    },
    {
      "cell_type": "code",
      "metadata": {
        "id": "TK16EPl0kyFY",
        "colab_type": "code",
        "colab": {}
      },
      "source": [
        "\n",
        "def writeToJSONFile(path, fileName, data):\n",
        "    filePathNameWExt = '' + path + '/' + fileName + '.txt'\n",
        "    with open(filePathNameWExt, 'a') as fp :\n",
        "        json.dump(data, fp)\n"
      ],
      "execution_count": 0,
      "outputs": []
    },
    {
      "cell_type": "code",
      "metadata": {
        "id": "v8MpdK1tkyFb",
        "colab_type": "code",
        "colab": {}
      },
      "source": [
        "#runs throughout the directory and appends list with .plt files address\n",
        "def findFilesInFolder(path, pathList, extension, subFolders = True):\n",
        "    import os\n",
        "    \n",
        " \n",
        "    try:   # error might be du to File permissions \n",
        "        with os.scandir(path) as it:\n",
        "            for entry in it:\n",
        "                if entry.is_file() and entry.path.endswith(extension):\n",
        "                    pathList.append(entry.path)\n",
        "                    \n",
        "                                  \n",
        "                elif entry.is_dir() and subFolders:   # if its a directory(folder), then repeat process as a nested function\n",
        "                    pathList = findFilesInFolder(entry.path, pathList, extension, subFolders)\n",
        "                \n",
        "    except OSError:\n",
        "        print('Cannot access ' + path +'. Probably a permissions error')\n",
        "        \n",
        "    return pathList\n"
      ],
      "execution_count": 0,
      "outputs": []
    },
    {
      "cell_type": "code",
      "metadata": {
        "id": "lXafvJrfkyFd",
        "colab_type": "code",
        "colab": {}
      },
      "source": [
        "class Thing(object): #to convert hmmlearn into json \n",
        "    def __init__(self, name):\n",
        "        self.name = name"
      ],
      "execution_count": 0,
      "outputs": []
    },
    {
      "cell_type": "code",
      "metadata": {
        "id": "u9wyo8N_kyFf",
        "colab_type": "code",
        "colab": {}
      },
      "source": [
        "def fileexistsdelete(path,fileName): #if text file exists then delete and then write result\n",
        "    filePathNameWExt = '' + path + '/' + fileName + '.txt'\n",
        "    try:\n",
        "        os.remove(filePathNameWExt)\n",
        "    except OSError:\n",
        "        pass"
      ],
      "execution_count": 0,
      "outputs": []
    },
    {
      "cell_type": "code",
      "metadata": {
        "id": "3_AiJfm7kyFg",
        "colab_type": "code",
        "colab": {}
      },
      "source": [
        "\n",
        "def model_prog(path, pathList, extension, subFolders):\n",
        "    #path=model_prog1(path, pathList, extension, subFolders)\n",
        "    p1=os.scandir(path)\n",
        "    #print(p1)\n",
        "    for k in p1:\n",
        "       \n",
        "        path1=os.path.join(k)\n",
        "        #path1=os.path.dirname(os.path.abspath(k))\n",
        "        #print(k)\n",
        "        pathList=findFilesInFolder(path1, pathList, extension, subFolders)\n",
        "       \n",
        "        fileName=os.path.basename(path1)\n",
        "        \n",
        "        fileexistsdelete(path1,fileName)\n",
        "        \n",
        "        for count,j in enumerate(pathList):\n",
        "            #print(count)\n",
        "            #print(j)\n",
        "            p22=datab(j)\n",
        "            spli=p22[2]\n",
        "            tr=p22[0]\n",
        "            pr=p22[1]\n",
        "            train=(spli[0][0:])\n",
        "            test=(spli[1][0:])\n",
        "            \n",
        "            obs = np.array([line.rstrip('\\n') for line in train])\n",
        "            \n",
        "            X=np.reshape(obs,(-1,1))\n",
        "            \n",
        "            X=X.astype(np.float64)\n",
        "            #print(len(X))\n",
        "            \n",
        "            model = (hmm.GaussianHMM(n_components=2,covariance_type=\"full\",algorithm='viterbi',n_iter=10, random_state=7))\n",
        "            #modela=hmmlearn.stats(model)#.fit(X))\n",
        "            #print(modela)\n",
        "            mod = jsonpickle.encode(Thing(model.fit(X)))\n",
        "            \n",
        "            model.monitor_\n",
        "            ConvergenceMonitor(n_iter=10,    tol=0.01,    verbose=False)\n",
        "            \n",
        "            model.monitor_.converged\n",
        "            \n",
        "            y_pr=model.sample(pr)\n",
        "            \n",
        "            \n",
        "            p = [x[0] for x in y_pr[0]]        \n",
        "            z=nmser(test,p)\n",
        "            \n",
        "            file=os.path.basename(j)\n",
        "            l1=[]\n",
        "           \n",
        "            l1.append({'COUNT: ':count,\n",
        "                       'Dataset':file,\n",
        "                       'model':mod, \n",
        "                       'data':p22,\n",
        "                       'predicted data':p,\n",
        "                       'NMSE':z})\n",
        "            \n",
        "            a=writeToJSONFile(path1,fileName,l1)\n",
        "        \n",
        "        l1.clear()\n",
        "        pathList.clear()\n",
        "        del pr,X,p22,p,z,l1,model,j"
      ],
      "execution_count": 0,
      "outputs": []
    },
    {
      "cell_type": "code",
      "metadata": {
        "id": "8t43pdnLkyFi",
        "colab_type": "code",
        "outputId": "9189efb3-98d4-4862-895a-6c091a7458aa",
        "colab": {
          "base_uri": "https://localhost:8080/",
          "height": 316
        }
      },
      "source": [
        "path=('I:/VIT/data ericsson/data/test')#,encoding='utf-8')\n",
        "\n",
        "model_prog(path, [], '.plt',True)"
      ],
      "execution_count": 0,
      "outputs": [
        {
          "output_type": "error",
          "ename": "FileNotFoundError",
          "evalue": "ignored",
          "traceback": [
            "\u001b[0;31m---------------------------------------------------------------------------\u001b[0m",
            "\u001b[0;31mFileNotFoundError\u001b[0m                         Traceback (most recent call last)",
            "\u001b[0;32m<ipython-input-20-cd184ab915b0>\u001b[0m in \u001b[0;36m<module>\u001b[0;34m()\u001b[0m\n\u001b[1;32m      1\u001b[0m \u001b[0mpath\u001b[0m\u001b[0;34m=\u001b[0m\u001b[0;34m(\u001b[0m\u001b[0;34m'I:/VIT/data ericsson/data/test'\u001b[0m\u001b[0;34m)\u001b[0m\u001b[0;31m#,encoding='utf-8')\u001b[0m\u001b[0;34m\u001b[0m\u001b[0;34m\u001b[0m\u001b[0m\n\u001b[1;32m      2\u001b[0m \u001b[0;34m\u001b[0m\u001b[0m\n\u001b[0;32m----> 3\u001b[0;31m \u001b[0mmodel_prog\u001b[0m\u001b[0;34m(\u001b[0m\u001b[0mpath\u001b[0m\u001b[0;34m,\u001b[0m \u001b[0;34m[\u001b[0m\u001b[0;34m]\u001b[0m\u001b[0;34m,\u001b[0m \u001b[0;34m'.plt'\u001b[0m\u001b[0;34m,\u001b[0m\u001b[0;32mTrue\u001b[0m\u001b[0;34m)\u001b[0m\u001b[0;34m\u001b[0m\u001b[0;34m\u001b[0m\u001b[0m\n\u001b[0m",
            "\u001b[0;32m<ipython-input-13-62cba2dc1bd5>\u001b[0m in \u001b[0;36mmodel_prog\u001b[0;34m(path, pathList, extension, subFolders)\u001b[0m\n\u001b[1;32m      2\u001b[0m \u001b[0;32mdef\u001b[0m \u001b[0mmodel_prog\u001b[0m\u001b[0;34m(\u001b[0m\u001b[0mpath\u001b[0m\u001b[0;34m,\u001b[0m \u001b[0mpathList\u001b[0m\u001b[0;34m,\u001b[0m \u001b[0mextension\u001b[0m\u001b[0;34m,\u001b[0m \u001b[0msubFolders\u001b[0m\u001b[0;34m)\u001b[0m\u001b[0;34m:\u001b[0m\u001b[0;34m\u001b[0m\u001b[0;34m\u001b[0m\u001b[0m\n\u001b[1;32m      3\u001b[0m     \u001b[0;31m#path=model_prog1(path, pathList, extension, subFolders)\u001b[0m\u001b[0;34m\u001b[0m\u001b[0;34m\u001b[0m\u001b[0;34m\u001b[0m\u001b[0m\n\u001b[0;32m----> 4\u001b[0;31m     \u001b[0mp1\u001b[0m\u001b[0;34m=\u001b[0m\u001b[0mos\u001b[0m\u001b[0;34m.\u001b[0m\u001b[0mscandir\u001b[0m\u001b[0;34m(\u001b[0m\u001b[0mpath\u001b[0m\u001b[0;34m)\u001b[0m\u001b[0;34m\u001b[0m\u001b[0;34m\u001b[0m\u001b[0m\n\u001b[0m\u001b[1;32m      5\u001b[0m     \u001b[0;31m#print(p1)\u001b[0m\u001b[0;34m\u001b[0m\u001b[0;34m\u001b[0m\u001b[0;34m\u001b[0m\u001b[0m\n\u001b[1;32m      6\u001b[0m     \u001b[0;32mfor\u001b[0m \u001b[0mk\u001b[0m \u001b[0;32min\u001b[0m \u001b[0mp1\u001b[0m\u001b[0;34m:\u001b[0m\u001b[0;34m\u001b[0m\u001b[0;34m\u001b[0m\u001b[0m\n",
            "\u001b[0;31mFileNotFoundError\u001b[0m: [Errno 2] No such file or directory: 'I:/VIT/data ericsson/data/test'"
          ]
        }
      ]
    },
    {
      "cell_type": "code",
      "metadata": {
        "id": "V7eOiOX1kyFl",
        "colab_type": "code",
        "colab": {}
      },
      "source": [
        ""
      ],
      "execution_count": 0,
      "outputs": []
    }
  ]
}